{
 "cells": [
  {
   "cell_type": "code",
   "execution_count": 1,
   "id": "54c1f107-d6c6-4a78-b61f-04803b0edc06",
   "metadata": {},
   "outputs": [],
   "source": [
    "import torch\n",
    "import torch.nn as nn\n",
    "import torch.optim as optim\n",
    "from torch.utils.data import Dataset, DataLoader\n",
    "\n",
    "import matplotlib.pyplot as plt\n",
    "import matplotlib.ticker as ticker\n",
    "import numpy as np\n",
    "\n",
    "import random\n",
    "import math\n",
    "import time\n",
    "\n",
    "import sys\n",
    "# insert at 1, 0 is the script path (or '' in REPL)\n",
    "sys.path.insert(1, '../code/')\n",
    "import util\n",
    "import ssm\n"
   ]
  },
  {
   "cell_type": "markdown",
   "id": "183ed61f-bc3f-499d-aad2-49009b4d3a04",
   "metadata": {},
   "source": [
    "### Set the path and specification that you want to predict"
   ]
  },
  {
   "cell_type": "code",
   "execution_count": 2,
   "id": "849f712d-ac8c-4bfc-be58-d334d4596838",
   "metadata": {},
   "outputs": [],
   "source": [
    "data_path = '../data/transformer_data'\n",
    "spec = 'airworthy' #'hover'#'interference'#'dist' #'mass' #'airworthy'\n",
    "max_mass = 35. #(kg)"
   ]
  },
  {
   "cell_type": "markdown",
   "id": "09bf7211-68d9-4d3e-bd6b-b8c15432df30",
   "metadata": {},
   "source": [
    "### Download the dataset and build the data loaders"
   ]
  },
  {
   "cell_type": "code",
   "execution_count": 3,
   "id": "e9f53380-d6c5-4f18-9925-7a5fc9ea1961",
   "metadata": {},
   "outputs": [],
   "source": [
    "torch.manual_seed(0)\n",
    "np.random.seed(0)\n",
    "batch_size = 2 # 512\n",
    "batch_size_val = 2 # 512\n",
    "frac_train = 0.4\n",
    "frac_val = 0.4\n",
    "\n",
    "dataloader_tr, dataloader_val, dataloader_test, scale_1, scale_2 = ssm.prepare_sequence_data(data_path, spec, batch_size = batch_size ,batch_size_val = batch_size_val, frac_train = frac_train, frac_val = frac_val)"
   ]
  },
  {
   "cell_type": "code",
   "execution_count": 4,
   "id": "f140695f-571d-43c7-835d-62eb83d757af",
   "metadata": {},
   "outputs": [
    {
     "name": "stdout",
     "output_type": "stream",
     "text": [
      "Training Data:   6\n",
      "Validation Data: 6\n",
      "Test Data:       3\n"
     ]
    }
   ],
   "source": [
    "print(f'Training Data:   {dataloader_tr.dataset.y_train.shape[0]}')\n",
    "print(f'Validation Data: {dataloader_val.dataset.y_train.shape[0]}')\n",
    "print(f'Test Data:       {dataloader_test.dataset.y_train.shape[0]}')"
   ]
  },
  {
   "cell_type": "markdown",
   "id": "323d6ad0-03ea-4431-97a4-e2887a8eb95e",
   "metadata": {},
   "source": [
    "### Set up model from the seq_to_spec_model.py"
   ]
  },
  {
   "cell_type": "code",
   "execution_count": 5,
   "id": "abfd3a10-b0ee-435b-ae01-8ca48c9cdcac",
   "metadata": {},
   "outputs": [],
   "source": [
    "from ssm import TransformerModel, LSTM\n",
    "\n",
    "mode = 'transformer' #'lstm'\n",
    "\n",
    "torch.manual_seed(0)\n",
    "np.random.seed(0)\n",
    "\n",
    "emsize = 200  # embedding dimension\n",
    "d_hid = 512  # dimension of the feedforward network model in nn.TransformerEncoder\n",
    "nlayers = 8  # number of nn.TransformerEncoderLayer in nn.TransformerEncoder\n",
    "nhead = 2  # number of heads in nn.MultiheadAttention\n",
    "dropout = 0.2  # dropout probability\n",
    "D_out = 1\n",
    "D = dataloader_tr.dataset.x_train.shape[-1]\n",
    "\n",
    "device = torch.device(\"cuda\" if torch.cuda.is_available() else \"cpu\")\n",
    "torch.cuda.set_device(3)\n",
    "\n",
    "if mode == 'transformer':\n",
    "    model = TransformerModel( emsize, nhead, d_hid, nlayers, dropout, D, D_out).to(device)\n",
    "elif mode == 'lstm':\n",
    "    model = LSTM(D, emsize, d_hid).to(device)"
   ]
  },
  {
   "cell_type": "markdown",
   "id": "79c288f0-5045-4e07-bb73-72c90e296a79",
   "metadata": {},
   "source": [
    "### Set up the training routine"
   ]
  },
  {
   "cell_type": "code",
   "execution_count": 6,
   "id": "09b569a0-2aa3-4ab7-8a87-d5083bbd1dfb",
   "metadata": {},
   "outputs": [],
   "source": [
    "import copy\n",
    "import time\n",
    "\n",
    "if spec == 'airworthy' or spec == 'interference':\n",
    "    criterion = nn.BCELoss() # nn.CrossEntropyLoss()\n",
    "    sig = nn.Sigmoid()\n",
    "if spec == 'mass' or spec == 'dist' or spec == 'hover':\n",
    "    criterion = nn.MSELoss()\n",
    "    \n",
    "lr = .1  # learning rate\n",
    "optimizer = torch.optim.SGD(model.parameters(), lr=lr)\n",
    "# scheduler = torch.optim.lr_scheduler.StepLR(optimizer, 100.0, gamma=0.95)\n",
    "\n",
    "def train(model: nn.Module) -> None:\n",
    "    model.train()  # turn on train mode\n",
    "    total_loss = 0.\n",
    "    log_interval = 200\n",
    "    start_time = time.time()\n",
    "\n",
    "    num_batches = 0 #bptt\n",
    "    for batch, train_data in enumerate(dataloader_tr):\n",
    "        data, targets, mask = train_data\n",
    "        \n",
    "        if mode == 'transformer':\n",
    "            output = model(data.to(device), mask.to(device))\n",
    "        elif mode == 'lstm':\n",
    "            output = model(data.to(device), int(data.shape[1]))\n",
    "        \n",
    "        if spec == 'airworthy' or spec == 'interference':\n",
    "            loss = criterion(sig(output), targets.view(-1,D_out).to(device))\n",
    "        if spec == 'mass' or spec == 'hover':\n",
    "            loss = criterion(output, targets.view(-1,D_out).to(device))\n",
    "        if spec == 'dist':\n",
    "            loss = criterion(torch.selu(output), targets.view(-1,D_out).to(device))\n",
    "\n",
    "        optimizer.zero_grad()\n",
    "        loss.backward()\n",
    "        torch.nn.utils.clip_grad_norm_(model.parameters(), 0.5)\n",
    "        optimizer.step()\n",
    "\n",
    "        total_loss += loss.item()\n",
    "        num_batches += 1\n",
    "\n",
    "    return total_loss/num_batches\n",
    "\n",
    "def evaluate(model: nn.Module) -> float:\n",
    "    model.eval()  # turn on evaluation mode\n",
    "    total_loss = 0.\n",
    "    num_batches = 0\n",
    "    with torch.no_grad():\n",
    "        for batch, val_data in enumerate(dataloader_val):\n",
    "            data, targets, mask = val_data\n",
    "            if mode == 'transformer':\n",
    "                output = model(data.to(device), mask.to(device))\n",
    "            elif mode == 'lstm':\n",
    "                output = model(data.to(device), int(data.shape[1]))\n",
    "            if spec == 'airworthy' or spec == 'interference':\n",
    "                loss = criterion(sig(output), targets.view(-1,D_out).to(device))\n",
    "            if spec == 'mass' or spec == 'hover':\n",
    "                loss = criterion(output, targets.view(-1,D_out).to(device))\n",
    "            if spec == 'dist':\n",
    "                loss = criterion(torch.selu(output), targets.view(-1,D_out).to(device))\n",
    "            num_batches += 1\n",
    "            total_loss += loss.item()\n",
    "    return total_loss/num_batches"
   ]
  },
  {
   "cell_type": "markdown",
   "id": "4b138921-061b-4c95-8b74-4969def303f6",
   "metadata": {},
   "source": [
    "### Train the model and save the best according to the validation data"
   ]
  },
  {
   "cell_type": "code",
   "execution_count": 7,
   "id": "7d3a967a-87af-4850-8625-adf0c01d852d",
   "metadata": {
    "scrolled": true,
    "tags": []
   },
   "outputs": [
    {
     "name": "stdout",
     "output_type": "stream",
     "text": [
      "-----------------------------------------------------------------------------------------\n",
      "| end of epoch   1 | time:  3.06s | loss 0.6973 | val loss 0.5434\n",
      "-----------------------------------------------------------------------------------------\n",
      "-----------------------------------------------------------------------------------------\n",
      "| end of epoch   2 | time:  0.51s | loss 0.5771 | val loss 0.5089\n",
      "-----------------------------------------------------------------------------------------\n"
     ]
    }
   ],
   "source": [
    "best_loss = float('inf')\n",
    "epochs = 2 #300\n",
    "best_model = None\n",
    "\n",
    "loss_list = []\n",
    "val_loss_list = []\n",
    "\n",
    "for epoch in range(1, epochs + 1):\n",
    "    epoch_start_time = time.time()\n",
    "    loss = train(model)\n",
    "    val_loss = evaluate(model)\n",
    "    elapsed = time.time() - epoch_start_time\n",
    "    print('-' * 89)\n",
    "    print(f'| end of epoch {epoch:3d} | time: {elapsed:5.2f}s | '\n",
    "          f'loss {loss:5.4f} | '\n",
    "          f'val loss {val_loss:5.4f}' )\n",
    "    print('-' * 89)\n",
    "\n",
    "    if val_loss < best_loss:\n",
    "        best_loss = val_loss\n",
    "        best_model = copy.deepcopy(model)\n",
    "    loss_list.append(loss)\n",
    "    val_loss_list.append(val_loss)\n",
    "#     scheduler.step()"
   ]
  },
  {
   "cell_type": "markdown",
   "id": "38107cdd-92f6-4de1-8f60-b6f64b8621dc",
   "metadata": {
    "tags": []
   },
   "source": [
    "### Plot the training and validation loss"
   ]
  },
  {
   "cell_type": "code",
   "execution_count": 8,
   "id": "bb6895eb-c325-49a9-9c31-859adbf85340",
   "metadata": {},
   "outputs": [
    {
     "data": {
      "image/png": "[encoded data removed]",
      "text/plain": [
       "<Figure size 432x288 with 1 Axes>"
      ]
     },
     "metadata": {
      "needs_background": "light"
     },
     "output_type": "display_data"
    }
   ],
   "source": [
    "import matplotlib.pyplot as plt\n",
    "%matplotlib inline\n",
    "plt.plot(loss_list)\n",
    "plt.plot(val_loss_list)\n",
    "plt.grid()\n",
    "plt.show()"
   ]
  },
  {
   "cell_type": "code",
   "execution_count": 9,
   "id": "3518fcf1-c5a3-494c-8a02-3cb4f371b985",
   "metadata": {},
   "outputs": [
    {
     "name": "stdout",
     "output_type": "stream",
     "text": [
      "torch.Size([3, 69, 653])\n",
      "torch.Size([3])\n"
     ]
    }
   ],
   "source": [
    "output = torch.zeros_like(dataloader_test.dataset.y_train)\n",
    "i = 0\n",
    "for x,y,m in dataloader_test:\n",
    "    with torch.no_grad():\n",
    "        print(x.shape)\n",
    "        print(y.shape)\n",
    "        best_model.eval().to(device)\n",
    "        if mode == 'transformer':\n",
    "            output[i:i + y.shape[0]] = best_model(x.to(device), m.to(device)).cpu().flatten()\n",
    "        elif mode == 'lstm':\n",
    "            output[i:i + y.shape[0]] = best_model(x.to(device), int(x.shape[1])).cpu().flatten()\n",
    "        i += y.shape[0]"
   ]
  },
  {
   "cell_type": "code",
   "execution_count": 10,
   "id": "6b15ce7b-1e6b-43d1-80b9-709f994253a8",
   "metadata": {},
   "outputs": [
    {
     "name": "stdout",
     "output_type": "stream",
     "text": [
      "tensor(2438.2043)\n"
     ]
    }
   ],
   "source": [
    "if spec == 'mass' or spec == 'hover':\n",
    "    criterion = nn.MSELoss()\n",
    "    o_un = output * scale_2 + scale_1\n",
    "    y_t = dataloader_test.dataset.y_train * scale_2 + scale_1\n",
    "    print(criterion(o_un, y_t))\n",
    "if spec == 'dist':\n",
    "    criterion = nn.MSELoss()\n",
    "    o_un = torch.selu(output) * (scale_2 + scale_1) - scale_1\n",
    "    y_t = dataloader_test.dataset.y_train * (scale_2 + scale_1) - scale_1\n",
    "    print(criterion(o_un / 1000., y_t /1000.))"
   ]
  },
  {
   "cell_type": "code",
   "execution_count": null,
   "id": "cb4ed80f-db74-4a57-8717-a48348ddb89b",
   "metadata": {},
   "outputs": [],
   "source": []
  },
  {
   "cell_type": "code",
   "execution_count": 10,
   "id": "cb7027be-a9ff-4273-8e59-c973af79c68b",
   "metadata": {},
   "outputs": [
    {
     "name": "stdout",
     "output_type": "stream",
     "text": [
      "accuracy=0.3333; misclass=0.6667\n"
     ]
    },
    {
     "data": {
      "image/png": "[encoded data removed]",
      "text/plain": [
       "<Figure size 360x216 with 1 Axes>"
      ]
     },
     "metadata": {
      "needs_background": "light"
     },
     "output_type": "display_data"
    }
   ],
   "source": [
    "if spec == 'airworthy' or spec == 'interference':\n",
    "\n",
    "    from sklearn.metrics import confusion_matrix\n",
    "    threshold = 0.5\n",
    "    y_pred = (torch.sigmoid(output).flatten().detach().cpu() > threshold).float().numpy()\n",
    "\n",
    "    conf_matrix = confusion_matrix(y_true=dataloader_test.dataset.y_train.numpy(), y_pred=y_pred)\n",
    "\n",
    "    util.plot_confusion_matrix(cm           = conf_matrix,\n",
    "                          normalize    = False,\n",
    "                          target_names = ['0', '1'],\n",
    "    #                       title        = \"Confusion Matrix, Normalized: Thresh {}\".format(threshold))\n",
    "                          title        = \"Confusion Matrix: Validation Data \")"
   ]
  },
  {
   "cell_type": "code",
   "execution_count": null,
   "id": "63785c8b-0716-44e4-8a84-238ef38caaca",
   "metadata": {},
   "outputs": [],
   "source": []
  }
 ],
 "metadata": {
  "kernelspec": {
   "display_name": "Python 3 (ipykernel)",
   "language": "python",
   "name": "python3"
  },
  "language_info": {
   "codemirror_mode": {
    "name": "ipython",
    "version": 3
   },
   "file_extension": ".py",
   "mimetype": "text/x-python",
   "name": "python",
   "nbconvert_exporter": "python",
   "pygments_lexer": "ipython3",
   "version": "3.9.12"
  }
 },
 "nbformat": 4,
 "nbformat_minor": 5
}
